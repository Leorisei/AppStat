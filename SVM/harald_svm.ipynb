{
 "cells": [
  {
   "cell_type": "code",
   "execution_count": 19,
   "metadata": {},
   "outputs": [],
   "source": [
    "import pandas as pd\n",
    "import os, fnmatch\n",
    "from sklearn.preprocessing import LabelEncoder\n",
    "from sklearn.model_selection import StratifiedShuffleSplit\n",
    "from sklearn.metrics import recall_score, precision_score, accuracy_score\n",
    "from sklearn.metrics import confusion_matrix, f1_score, classification_report\n",
    "from sklearn.svm import LinearSVC, SVC\n",
    "from sklearn.externals import joblib\n",
    "from sklearn.model_selection import GridSearchCV\n",
    "from sklearn.model_selection import train_test_split\n",
    "import matplotlib.pyplot as plt\n",
    "import numpy as np\n",
    "import time\n",
    "import scipy.stats\n",
    "# Random Seed\n",
    "from numpy.random import seed\n",
    "\n",
    "test_size_ratio = 0.30\n",
    "seed(4)\n",
    "\n",
    "# read the data\n",
    "df = pd.read_csv(\"train_test_2019.csv\")\n"
   ]
  },
  {
   "cell_type": "code",
   "execution_count": 13,
   "metadata": {},
   "outputs": [
    {
     "data": {
      "text/plain": [
       "Index(['age', 'workclass', 'fnlwgt', 'education', 'education-num',\n",
       "       'marital-status', 'occupation', 'relationship', 'race', 'sex',\n",
       "       'capital-gain', 'capital-loss', 'hours-per-week', 'native-country',\n",
       "       'y'],\n",
       "      dtype='object')"
      ]
     },
     "execution_count": 13,
     "metadata": {},
     "output_type": "execute_result"
    }
   ],
   "source": [
    "df.columns"
   ]
  },
  {
   "cell_type": "code",
   "execution_count": 45,
   "metadata": {},
   "outputs": [],
   "source": [
    "X = df[df.columns[:-1]]\n",
    "y = df.y\n",
    "\n",
    "cats = ['workclass','education','marital-status','occupation','relationship','race','sex','native-country']\n",
    "nums = ['age','fnlwgt','capital-gain','capital-loss','hours-per-week']\n",
    "\n",
    "#X[cats] = pd.Categorical(X[cats])"
   ]
  },
  {
   "cell_type": "code",
   "execution_count": 46,
   "metadata": {},
   "outputs": [],
   "source": [
    "# one hot encoding\n",
    "dummies = pd.get_dummies(X[cats])\n",
    "temp = pd.concat([X,dummies],axis=1)\n",
    "X = temp.drop(cats,axis=1)\n",
    "X = X.drop('education-num',axis=1)\n"
   ]
  },
  {
   "cell_type": "code",
   "execution_count": 48,
   "metadata": {},
   "outputs": [],
   "source": [
    "for i in nums:\n",
    "    mean = X[i].mean()\n",
    "    std = X[i].std()\n",
    "    X[i]=(X[i]-mean)/std\n"
   ]
  },
  {
   "cell_type": "code",
   "execution_count": 49,
   "metadata": {},
   "outputs": [
    {
     "name": "stderr",
     "output_type": "stream",
     "text": [
      "/usr/local/lib/python3.7/site-packages/sklearn/model_selection/_split.py:2053: FutureWarning: You should specify a value for 'cv' instead of relying on the default value. The default value will change from 3 to 5 in version 0.22.\n",
      "  warnings.warn(CV_WARNING, FutureWarning)\n"
     ]
    }
   ],
   "source": [
    "param_grid ={'C':[0.001,0.01,0.1,1e1,1e2],#C\n",
    "             'gamma':[0.0001,0.0005,0.001,0.01,0.1,0.5],}#gamma\n",
    "\n",
    "X_train, X_test, y_train, y_test = train_test_split(X, y, test_size=test_size_ratio, random_state=None)\n",
    "\n",
    "svclassifier = GridSearchCV(SVC(kernel='rbf'),param_grid)\n",
    "svclassifier = svclassifier.fit(X_train,y_train)"
   ]
  },
  {
   "cell_type": "code",
   "execution_count": 50,
   "metadata": {},
   "outputs": [
    {
     "name": "stdout",
     "output_type": "stream",
     "text": [
      "Best: 0.846000 using {'C': 10.0, 'gamma': 0.01}\n",
      "Best estimotor found by grid search:\n",
      "['no' 'no' 'no' ... 'no' 'yes' 'no']\n",
      "Recall:  [0.93554163 0.59660574]\n",
      "Precision:  [0.87119633 0.76039933]\n",
      "F1-Score:  [0.90222318 0.66861741]\n",
      "Accuracy: 0.85  ,\n",
      "Number of samples: 3000\n"
     ]
    }
   ],
   "source": [
    "print(\"Best: %f using %s\" % (svclassifier.best_score_,svclassifier.best_params_))\n",
    "#    \n",
    "print(\"Best estimotor found by grid search:\")\n",
    "y_pred = svclassifier.predict(X_test)\n",
    "print(predicted_labels)\n",
    "# Recall - the ability of the classifier to find all the positive samples  TP/(TP+FN)\n",
    "print(\"Recall: \", recall_score(y_test, y_pred,average=None))\n",
    "\n",
    "# Precision - The precision is intuitively the ability of the classifier not to \n",
    "#label as positive a sample that is negative          TP/(TP+FP)\n",
    "print(\"Precision: \", precision_score(y_test, y_pred,average=None))\n",
    "\n",
    "# F1-Score - The F1 score can be interpreted as a weighted average of the precision \n",
    "#and recall\n",
    "print(\"F1-Score: \", f1_score(y_test, y_pred, average=None))\n",
    "\n",
    "# Accuracy - the number of correctly classified samples\n",
    "print(\"Accuracy: %.2f  ,\" % accuracy_score(y_test, y_pred,normalize=True))\n",
    "print(\"Number of samples:\",y_test.shape[0])\n",
    "# Save the model\n",
    "#joblib.dump(svclassifier, 'svclassifier2.joblib')"
   ]
  }
 ],
 "metadata": {
  "kernelspec": {
   "display_name": "Python 3",
   "language": "python",
   "name": "python3"
  },
  "language_info": {
   "codemirror_mode": {
    "name": "ipython",
    "version": 3
   },
   "file_extension": ".py",
   "mimetype": "text/x-python",
   "name": "python",
   "nbconvert_exporter": "python",
   "pygments_lexer": "ipython3",
   "version": "3.7.5"
  }
 },
 "nbformat": 4,
 "nbformat_minor": 4
}
